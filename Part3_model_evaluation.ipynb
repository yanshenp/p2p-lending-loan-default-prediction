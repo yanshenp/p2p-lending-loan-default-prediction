{
 "cells": [
  {
   "cell_type": "markdown",
   "metadata": {},
   "source": [
    "# Evaluate the models' performance"
   ]
  },
  {
   "cell_type": "markdown",
   "metadata": {},
   "source": [
    "The trained models will be loaded into the environment of the notebook for model evaluation and comparison."
   ]
  },
  {
   "cell_type": "code",
   "execution_count": 19,
   "metadata": {},
   "outputs": [
    {
     "name": "stdout",
     "output_type": "stream",
     "text": [
      "-----Logistic Regression model-----\n",
      "Accuracy: 0.6439\n",
      "Precision: 0.6426\n",
      "Recall: 0.6485\n",
      "F1 Score: 0.6455\n",
      "\n",
      "\n",
      "[LightGBM] [Warning] boosting is set=gbdt, boosting_type=gbdt will be ignored. Current value: boosting=gbdt\n",
      "-----LightGBM model-----\n",
      "Accuracy: 0.6526\n",
      "Precision: 0.6488\n",
      "Recall: 0.6655\n",
      "F1 Score: 0.6570\n",
      "\n",
      "\n",
      "-----Support vector Machine model-----\n",
      "Accuracy: 0.6442\n",
      "Precision: 0.6431\n",
      "Recall: 0.6479\n",
      "F1 Score: 0.6455\n"
     ]
    },
    {
     "data": {
      "text/plain": [
       "{'Model Type': 'Support vector Machine model',\n",
       " 'Accuracy': '0.6442',\n",
       " 'Precision': '0.6431',\n",
       " 'Recall': '0.6479',\n",
       " 'F1 Score': '0.6455'}"
      ]
     },
     "execution_count": 19,
     "metadata": {},
     "output_type": "execute_result"
    }
   ],
   "source": [
    "model_performance(lr_finetuned_model,'Logistic Regression model', test_x_fs, test_y)\n",
    "print('\\n')\n",
    "model_performance(lightgbm_finetuned_model,'LightGBM model', test_x_fs, test_y)\n",
    "print('\\n')\n",
    "model_performance(svm_finetuned_model,'Support vector Machine model', test_x_fs, test_y)"
   ]
  }
 ],
 "metadata": {
  "kernelspec": {
   "display_name": "Python 3",
   "language": "python",
   "name": "python3"
  },
  "language_info": {
   "codemirror_mode": {
    "name": "ipython",
    "version": 3
   },
   "file_extension": ".py",
   "mimetype": "text/x-python",
   "name": "python",
   "nbconvert_exporter": "python",
   "pygments_lexer": "ipython3",
   "version": "3.12.2"
  }
 },
 "nbformat": 4,
 "nbformat_minor": 2
}
